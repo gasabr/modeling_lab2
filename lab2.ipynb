{
 "cells": [
  {
   "cell_type": "code",
   "execution_count": 1,
   "metadata": {},
   "outputs": [],
   "source": [
    "import simpy\n",
    "from random import expovariate, seed"
   ]
  },
  {
   "cell_type": "code",
   "execution_count": 2,
   "metadata": {},
   "outputs": [],
   "source": [
    "# global constants\n",
    "N_PROCESSORS = 1\n",
    "N_REQUESTS = 2000\n",
    "MAX_QUEUE_LEN = 100\n",
    "AVG_REQUEST_INTERVAL = 700\n",
    "AVG_SERVING_TIME = 100\n",
    "MAX_TIME = 30000\n",
    "SEED = 42\n",
    "\n",
    "payload_balance = {\n",
    "    30000: {\n",
    "        0.1: {'a': 700, 'b': 100},\n",
    "        0.9: {'a': 191, 'b': 100},\n",
    "    },\n",
    "    20000: {\n",
    "        0.1: {'a': 1100, 'b': 100},\n",
    "        0.9: {'a': 191, 'b': 100},\n",
    "    },\n",
    "    10000: {\n",
    "        0.1: {'a': 450, 'b': 100},\n",
    "        0.9: {'a': 210, 'b': 100},\n",
    "    }\n",
    "}\n",
    "\n",
    "test_times = [2000, 4000, 6000, 8000, 10000, 20000, 30000]\n",
    "\n",
    "# monitoring variables"
   ]
  },
  {
   "cell_type": "code",
   "execution_count": null,
   "metadata": {},
   "outputs": [],
   "source": []
  },
  {
   "cell_type": "code",
   "execution_count": 3,
   "metadata": {},
   "outputs": [],
   "source": [
    "class ProcessMonitor:\n",
    "    ''' Collects the data about running inside process. \n",
    "    \n",
    "    This class does not pretend to be general by any means.\n",
    "    '''\n",
    "    def __init__(self, env, resource):\n",
    "        self.env = env\n",
    "        self.resource = resource\n",
    "        \n",
    "        self._proc_working_time = 0\n",
    "        self._serving_time = []\n",
    "        self._waiting_time = []\n",
    "        self._num_rejected = 0\n",
    "        \n",
    "    def collect_data(self, n_requests, avg_request_interval, avg_serving_time, max_time):\n",
    "        self.n_requests = n_requests\n",
    "        self._avg_request_interval = avg_request_interval\n",
    "        self._avg_serving_time = avg_serving_time\n",
    "        \n",
    "        self.env.process(self._generate_requests())\n",
    "        self.env.run(until=max_time)\n",
    "        \n",
    "        return {\n",
    "            'w': self._waiting_time, \n",
    "            'b': self._serving_time,\n",
    "            'p': self._proc_working_time,\n",
    "            'n_rejected': self._num_rejected,\n",
    "        }\n",
    "    \n",
    "    def _generate_requests(self):\n",
    "        for i in range(self.n_requests):\n",
    "            self.env.process(self._serve())\n",
    "            t = expovariate(1.0/self._avg_request_interval)\n",
    "            yield self.env.timeout(t) # wait for the next request to appear      \n",
    "        \n",
    "    def _serve(self):\n",
    "        num_rejected = 0\n",
    "        arrive = self.env.now\n",
    "        \n",
    "        if len(self.resource.queue) < MAX_QUEUE_LEN:\n",
    "            with self.resource.request() as req:\n",
    "                yield req\n",
    "                wait_time = self.env.now-arrive\n",
    "                self._waiting_time.append(wait_time)\n",
    "\n",
    "                service_time = expovariate(1.0/AVG_SERVING_TIME)\n",
    "                self._serving_time.append(service_time)\n",
    "                yield self.env.timeout(service_time) # wait to be served\n",
    "\n",
    "            self._proc_working_time += env.now - arrive \n",
    "        else:\n",
    "            num_rejected += 1"
   ]
  },
  {
   "cell_type": "code",
   "execution_count": 4,
   "metadata": {},
   "outputs": [],
   "source": [
    "seed(SEED)\n",
    "\n",
    "results = {}\n",
    "\n",
    "for max_time, payload_params in payload_balance.items():\n",
    "    results[max_time] = {}\n",
    "    for payload, values in payload_params.items():\n",
    "        env = simpy.Environment(0)\n",
    "        k = simpy.Resource(env, capacity=N_PROCESSORS)\n",
    "        m = ProcessMonitor(env, k)\n",
    "        results[max_time][payload] = m.collect_data(N_REQUESTS, values['a'], values['b'], max_time)"
   ]
  },
  {
   "cell_type": "code",
   "execution_count": 5,
   "metadata": {},
   "outputs": [
    {
     "name": "stdout",
     "output_type": "stream",
     "text": [
      "Загрузка=0.11265890030034979\n",
      "Загрузка=0.9694710480187868\n"
     ]
    }
   ],
   "source": [
    "time_ = 20000\n",
    "print(\"Загрузка={}\".format(results[time_][0.1]['p'] / time_))\n",
    "print(\"Загрузка={}\".format(results[time_][0.9]['p'] / time_))"
   ]
  },
  {
   "cell_type": "code",
   "execution_count": null,
   "metadata": {},
   "outputs": [],
   "source": []
  }
 ],
 "metadata": {
  "kernelspec": {
   "display_name": "Python 3",
   "language": "python",
   "name": "python3"
  },
  "language_info": {
   "codemirror_mode": {
    "name": "ipython",
    "version": 3
   },
   "file_extension": ".py",
   "mimetype": "text/x-python",
   "name": "python",
   "nbconvert_exporter": "python",
   "pygments_lexer": "ipython3",
   "version": "3.5.0"
  }
 },
 "nbformat": 4,
 "nbformat_minor": 2
}
