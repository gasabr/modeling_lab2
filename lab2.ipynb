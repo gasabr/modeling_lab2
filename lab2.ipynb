{
 "cells": [
  {
   "cell_type": "code",
   "execution_count": 1,
   "metadata": {},
   "outputs": [],
   "source": [
    "import simpy\n",
    "from random import expovariate, seed"
   ]
  },
  {
   "cell_type": "code",
   "execution_count": 2,
   "metadata": {},
   "outputs": [],
   "source": [
    "# global constants\n",
    "N_PROCESSORS = 1\n",
    "N_REQUESTS = 2000\n",
    "MAX_QUEUE_LEN = 100\n",
    "AVG_REQUEST_INTERVAL = 1000\n",
    "AVG_SERVING_TIME = 900\n",
    "MAX_TIME = 3000000\n",
    "SEED = 42\n",
    "\n",
    "# monitoring variables\n",
    "PROC_WORKING_TIME = 0\n",
    "SERVICE_TIME = []\n",
    "WAITING_TIME = []"
   ]
  },
  {
   "cell_type": "code",
   "execution_count": 3,
   "metadata": {},
   "outputs": [],
   "source": [
    "def generate_requests(n_jobs, avg_interval, resource):\n",
    "    for i in range(n_jobs):\n",
    "        env.process(serve(i, resource))\n",
    "        t = expovariate(1.0/avg_interval)\n",
    "        yield env.timeout(t) # wait for the next request to appear      "
   ]
  },
  {
   "cell_type": "code",
   "execution_count": 4,
   "metadata": {},
   "outputs": [],
   "source": [
    "def serve(job_id, resource):\n",
    "    num_rejected = 0\n",
    "    arrive = env.now\n",
    "    if len(resource.queue) < MAX_QUEUE_LEN:     # the test\n",
    "        with resource.request() as req:\n",
    "            yield req\n",
    "            wait_time = env.now-arrive\n",
    "            WAITING_TIME.append(wait_time)\n",
    "            \n",
    "            service_time = expovariate(1.0/AVG_SERVING_TIME)\n",
    "            SERVICE_TIME.append(service_time)\n",
    "            yield env.timeout(service_time) # wait to be served\n",
    "            # saved here for debug purposes\n",
    "        \n",
    "        global PROC_WORKING_TIME\n",
    "        PROC_WORKING_TIME += env.now - arrive \n",
    "#         print(\"job_id={}, start={}, finish={}\".format(job_id, arrive, env.now))\n",
    "    else:\n",
    "        num_rejected += 1\n",
    "        print(\"%8.4f: BALKING   \"%(env.now))"
   ]
  },
  {
   "cell_type": "code",
   "execution_count": 5,
   "metadata": {},
   "outputs": [
    {
     "name": "stdout",
     "output_type": "stream",
     "text": [
      "3.09301143791507\n"
     ]
    }
   ],
   "source": [
    "seed(SEED)\n",
    "\n",
    "# GLOBAL VAR MEASURING PROC WORKLOAD\n",
    "\n",
    "env = simpy.Environment()\n",
    "k = simpy.Resource(env, capacity=N_PROCESSORS)\n",
    "env.process(generate_requests(n_jobs=N_REQUESTS, \n",
    "                              avg_interval=AVG_REQUEST_INTERVAL, \n",
    "                              resource=k))\n",
    "env.run(until=MAX_TIME)\n",
    "print(PROC_WORKING_TIME/MAX_TIME)"
   ]
  },
  {
   "cell_type": "code",
   "execution_count": 6,
   "metadata": {},
   "outputs": [
    {
     "name": "stdout",
     "output_type": "stream",
     "text": [
      "2000 2000\n",
      "885.9054979755136\n"
     ]
    }
   ],
   "source": [
    "print(len(WAITING_TIME),  len(SERVICE_TIME))\n",
    "print(sum(SERVICE_TIME) / len(SERVICE_TIME))"
   ]
  },
  {
   "cell_type": "code",
   "execution_count": null,
   "metadata": {},
   "outputs": [],
   "source": []
  }
 ],
 "metadata": {
  "kernelspec": {
   "display_name": "Python 3",
   "language": "python",
   "name": "python3"
  },
  "language_info": {
   "codemirror_mode": {
    "name": "ipython",
    "version": 3
   },
   "file_extension": ".py",
   "mimetype": "text/x-python",
   "name": "python",
   "nbconvert_exporter": "python",
   "pygments_lexer": "ipython3",
   "version": "3.5.0"
  }
 },
 "nbformat": 4,
 "nbformat_minor": 2
}
