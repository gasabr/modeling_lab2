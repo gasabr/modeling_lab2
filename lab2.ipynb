{
 "cells": [
  {
   "cell_type": "code",
   "execution_count": 10,
   "metadata": {},
   "outputs": [],
   "source": [
    "import simpy\n",
    "import numpy as np\n",
    "from random import expovariate, seed\n"
   ]
  },
  {
   "cell_type": "code",
   "execution_count": 2,
   "metadata": {},
   "outputs": [],
   "source": [
    "# global constants\n",
    "N_PROCESSORS = 1\n",
    "N_REQUESTS = 2000\n",
    "MAX_QUEUE_LEN = 100\n",
    "AVG_REQUEST_INTERVAL = 700\n",
    "AVG_SERVING_TIME = 100\n",
    "MAX_TIME = 30000\n",
    "SEED = 42\n",
    "\n",
    "payload_balance = {\n",
    "    30000: {\n",
    "        0.1: {'a': 700, 'b': 100},\n",
    "        0.9: {'a': 104, 'b': 100},\n",
    "    },\n",
    "    20000: {\n",
    "        0.1: {'a': 1100, 'b': 100},\n",
    "        0.9: {'a': 104, 'b': 100},\n",
    "    },\n",
    "    10000: {\n",
    "        0.1: {'a': 450, 'b': 100},\n",
    "        0.9: {'a': 104, 'b': 100},\n",
    "    },\n",
    "    8000: {\n",
    "        0.1: {'a': 450, 'b': 100},\n",
    "        0.9: {'a': 102, 'b': 100},\n",
    "    },\n",
    "    6000: {\n",
    "        0.1: {'a': 450, 'b': 100},\n",
    "        0.9: {'a': 102, 'b': 100},\n",
    "    }\n",
    "}"
   ]
  },
  {
   "cell_type": "code",
   "execution_count": 3,
   "metadata": {},
   "outputs": [],
   "source": [
    "class ProcessMonitor:\n",
    "    ''' Collects the data about running inside process. \n",
    "    \n",
    "    This class does not pretend to be general by any means.\n",
    "    '''\n",
    "    def __init__(self, env, resource):\n",
    "        self.env = env\n",
    "        self.resource = resource\n",
    "        \n",
    "        self._proc_working_time = 0\n",
    "        self._serving_time = []\n",
    "        self._waiting_time = []\n",
    "        self._entry_time = []\n",
    "        self._num_rejected = 0\n",
    "        \n",
    "    def collect_data(self, n_requests, avg_request_interval, avg_serving_time, max_time):\n",
    "        self.n_requests = n_requests\n",
    "        self._avg_request_interval = avg_request_interval\n",
    "        self._avg_serving_time = avg_serving_time\n",
    "        \n",
    "        self.env.process(self._generate_requests())\n",
    "        self.env.run(until=max_time)\n",
    "        \n",
    "        return {\n",
    "            'w': self._waiting_time, \n",
    "            'b': self._serving_time,\n",
    "            'e': self._entry_time,\n",
    "            'p': sum(self._serving_time),\n",
    "            'n_rejected': self._num_rejected,\n",
    "        }\n",
    "    \n",
    "    def _generate_requests(self):\n",
    "        for i in range(self.n_requests):\n",
    "            self.env.process(self._serve())\n",
    "            t = expovariate(1.0/self._avg_request_interval)\n",
    "            yield self.env.timeout(t) # wait for the next request to appear      \n",
    "        \n",
    "    def _serve(self):\n",
    "        num_rejected = 0\n",
    "        arrive = self.env.now\n",
    "        \n",
    "        self._entry_time.append(arrive)\n",
    "        \n",
    "        if len(self.resource.queue) < MAX_QUEUE_LEN:\n",
    "            with self.resource.request() as req:\n",
    "                yield req\n",
    "                wait_time = self.env.now-arrive\n",
    "                self._waiting_time.append(wait_time)\n",
    "\n",
    "                service_time = expovariate(1.0/self._avg_serving_time)\n",
    "                before_service = env.now\n",
    "                yield self.env.timeout(service_time) # wait to be served\n",
    "                self._serving_time.append(service_time)\n",
    "\n",
    "#                 self._proc_working_time += before_service - arrive \n",
    "        else:\n",
    "            num_rejected += 1"
   ]
  },
  {
   "cell_type": "code",
   "execution_count": 4,
   "metadata": {},
   "outputs": [
    {
     "name": "stdout",
     "output_type": "stream",
     "text": [
      "n=30000, a=700, b=100, payload=0.1 p=3288.822499514054\n",
      "n=30000, a=104, b=100, payload=0.9 p=28452.790393510026\n",
      "n=20000, a=1100, b=100, payload=0.1 p=3340.52099447941\n",
      "n=20000, a=104, b=100, payload=0.9 p=19696.726213902944\n",
      "n=6000, a=450, b=100, payload=0.1 p=1455.7865496932961\n",
      "n=6000, a=102, b=100, payload=0.9 p=5164.370875097138\n",
      "n=10000, a=450, b=100, payload=0.1 p=2816.545100785558\n",
      "n=10000, a=104, b=100, payload=0.9 p=8830.046821486721\n",
      "n=8000, a=450, b=100, payload=0.1 p=1344.3198124995613\n",
      "n=8000, a=102, b=100, payload=0.9 p=6244.3383030419645\n"
     ]
    }
   ],
   "source": [
    "seed(SEED)\n",
    "\n",
    "results = {}\n",
    "\n",
    "for max_time, payload_params in payload_balance.items():\n",
    "    results[max_time] = {}\n",
    "    for payload, values in payload_params.items():\n",
    "        env = simpy.Environment(0)\n",
    "        k = simpy.Resource(env, capacity=N_PROCESSORS)\n",
    "        m = ProcessMonitor(env, k)\n",
    "        results[max_time][payload] = m.collect_data(N_REQUESTS, values['a'], values['b'], max_time)\n",
    "        \n",
    "        print(\"n={}, a={}, b={}, payload={} p={}\".format(max_time, values['a'], values['b'], payload, results[max_time][payload]['p']))"
   ]
  },
  {
   "cell_type": "code",
   "execution_count": 36,
   "metadata": {},
   "outputs": [],
   "source": [
    "n_requests = [10, 100, 500, 2000, 4000, 6000, 8000, 10000, 20000, 30000, 50000, 75000, 150000]\n",
    "\n",
    "results = {}\n",
    "\n",
    "for nr in n_requests:\n",
    "    env = simpy.Environment(0)\n",
    "    k = simpy.Resource(env, capacity=N_PROCESSORS)\n",
    "    m = ProcessMonitor(env, k)\n",
    "    results[nr] = m.collect_data(nr, nr/MAX_TIME, 1.11111 * nr/MAX_TIME, MAX_TIME)"
   ]
  },
  {
   "cell_type": "code",
   "execution_count": 37,
   "metadata": {},
   "outputs": [],
   "source": [
    "lambdas = np.array(n_requests) / MAX_TIME"
   ]
  },
  {
   "cell_type": "code",
   "execution_count": 40,
   "metadata": {},
   "outputs": [
    {
     "name": "stdout",
     "output_type": "stream",
     "text": [
      "10 0.8999998926304676 1.0736953241133593e-07\n",
      "100 0.8999883976146932 1.1602385306794327e-05\n",
      "500 0.8997140347276782 0.00028596527232185485\n",
      "2000 0.895529509439522 0.004470490560477941\n",
      "4000 0.881875690813027 0.018124309186973053\n",
      "6000 0.8592527834320727 0.04074721656792729\n",
      "8000 0.8283737319885406 0.07162626801145948\n",
      "10000 0.7885846427557426 0.1114153572442574\n",
      "20000 0.4520556912162808 0.4479443087837192\n",
      "30000 -0.0964946372864669 0.9964946372864669\n",
      "50000 -0.09923851660550165 0.9992385166055017\n",
      "75000 -0.098780869617217 0.998780869617217\n",
      "150000 -0.0954708433378767 0.9954708433378767\n"
     ]
    }
   ],
   "source": [
    "y = 0.9\n",
    "p0= (1 - y) \n",
    "p = y\n",
    "    \n",
    "for nr, _lambda in zip(n_requests, lambdas) :\n",
    "    ts = (results[nr]['e'])\n",
    "    payload = results[nr]['p']\n",
    "    diffs = list(map(lambda i: ts[i+1] - ts[i], range(len(ts) -1)))\n",
    "    print(nr, p - payload/MAX_TIME, payload/MAX_TIME)"
   ]
  },
  {
   "cell_type": "code",
   "execution_count": 42,
   "metadata": {},
   "outputs": [
    {
     "name": "stdout",
     "output_type": "stream",
     "text": [
      "10 0.8723903069310212 0.02760969306897887\n",
      "100 0.5458435255766163 0.3541564744233837\n",
      "500 0.16193562867054256 0.7380643713294575\n",
      "2000 0.025435268467270955 0.8745647315327291\n",
      "4000 0.008233887483066304 0.8917661125169337\n",
      "6000 -0.06284315570246335 0.9628431557024634\n",
      "8000 -0.08921975609048782 0.9892197560904878\n",
      "10000 0.16767388186859844 0.7323261181314016\n",
      "20000 -0.07259066248573831 0.9725906624857383\n",
      "30000 -0.053488769593987184 0.9534887695939872\n",
      "50000 -0.012586849081842377 0.9125868490818424\n",
      "75000 -0.02964669329320746 0.9296466932932075\n",
      "150000 0.04852577205140696 0.8514742279485931\n"
     ]
    }
   ],
   "source": [
    "y = 0.9\n",
    "p0= (1 - y) \n",
    "p = y\n",
    "params = payload_balance[30000][0.9]\n",
    "results = {}\n",
    "\n",
    "lambdas = np.array(n_requests) / MAX_TIME\n",
    "\n",
    "for nr in n_requests:\n",
    "    env = simpy.Environment(0)\n",
    "    k = simpy.Resource(env, capacity=N_PROCESSORS)\n",
    "    m = ProcessMonitor(env, k)\n",
    "    results[nr] = m.collect_data(nr, params['a'], params['b'], MAX_TIME)\n",
    "    \n",
    "for nr, _lambda in zip(n_requests, lambdas):\n",
    "    ts = (results[nr]['e'])\n",
    "    payload = results[nr]['p']\n",
    "    diffs = list(map(lambda i: ts[i+1] - ts[i], range(len(ts) -1)))\n",
    "    print(nr, p - payload/MAX_TIME, payload/MAX_TIME)"
   ]
  },
  {
   "cell_type": "code",
   "execution_count": 7,
   "metadata": {},
   "outputs": [],
   "source": [
    "def grid_search(a_range, b_range, a_or_b, time_):\n",
    "    grad = 100\n",
    "    results = {}\n",
    "    for a in a_range:\n",
    "        for b in b_range:\n",
    "            env = simpy.Environment(0)\n",
    "            k = simpy.Resource(env, capacity=N_PROCESSORS)\n",
    "            m = ProcessMonitor(env, k)\n",
    "            results = m.collect_data(N_REQUESTS, a, b, time_)\n",
    "\n",
    "            last_grad = grad\n",
    "            grad = (results['p'] / time_) - a_or_b\n",
    "\n",
    "            if grad < 0.09:\n",
    "                print(results['p'])\n",
    "                return (a, b)\n",
    "\n",
    "            \n",
    "    return ()\n",
    "            \n",
    "\n",
    "def check_payload(results, time_):\n",
    "    print(\"Загрузка={}\".format(results[time_][0.1]['p'] / time_))\n",
    "    print(\"Загрузка={}\\n\".format(results[time_][0.9]['p'] / time_))\n"
   ]
  },
  {
   "cell_type": "code",
   "execution_count": 8,
   "metadata": {},
   "outputs": [
    {
     "ename": "KeyError",
     "evalue": "0.1",
     "output_type": "error",
     "traceback": [
      "\u001b[0;31m---------------------------------------------------------------------------\u001b[0m",
      "\u001b[0;31mKeyError\u001b[0m                                  Traceback (most recent call last)",
      "\u001b[0;32m<ipython-input-8-8e75ae1c376d>\u001b[0m in \u001b[0;36m<module>\u001b[0;34m()\u001b[0m\n\u001b[0;32m----> 1\u001b[0;31m \u001b[0mcheck_payload\u001b[0m\u001b[0;34m(\u001b[0m\u001b[0mresults\u001b[0m\u001b[0;34m,\u001b[0m \u001b[0;36m30000\u001b[0m\u001b[0;34m)\u001b[0m\u001b[0;34m\u001b[0m\u001b[0m\n\u001b[0m\u001b[1;32m      2\u001b[0m \u001b[0;34m\u001b[0m\u001b[0m\n\u001b[1;32m      3\u001b[0m \u001b[0mcheck_payload\u001b[0m\u001b[0;34m(\u001b[0m\u001b[0mresults\u001b[0m\u001b[0;34m,\u001b[0m \u001b[0;36m20000\u001b[0m\u001b[0;34m)\u001b[0m\u001b[0;34m\u001b[0m\u001b[0m\n\u001b[1;32m      4\u001b[0m \u001b[0mcheck_payload\u001b[0m\u001b[0;34m(\u001b[0m\u001b[0mresults\u001b[0m\u001b[0;34m,\u001b[0m \u001b[0;36m10000\u001b[0m\u001b[0;34m)\u001b[0m\u001b[0;34m\u001b[0m\u001b[0m\n\u001b[1;32m      5\u001b[0m \u001b[0mcheck_payload\u001b[0m\u001b[0;34m(\u001b[0m\u001b[0mresults\u001b[0m\u001b[0;34m,\u001b[0m \u001b[0;36m8000\u001b[0m\u001b[0;34m)\u001b[0m\u001b[0;34m\u001b[0m\u001b[0m\n",
      "\u001b[0;32m<ipython-input-7-3459544c71dc>\u001b[0m in \u001b[0;36mcheck_payload\u001b[0;34m(results, time_)\u001b[0m\n\u001b[1;32m     21\u001b[0m \u001b[0;34m\u001b[0m\u001b[0m\n\u001b[1;32m     22\u001b[0m \u001b[0;32mdef\u001b[0m \u001b[0mcheck_payload\u001b[0m\u001b[0;34m(\u001b[0m\u001b[0mresults\u001b[0m\u001b[0;34m,\u001b[0m \u001b[0mtime_\u001b[0m\u001b[0;34m)\u001b[0m\u001b[0;34m:\u001b[0m\u001b[0;34m\u001b[0m\u001b[0m\n\u001b[0;32m---> 23\u001b[0;31m     \u001b[0mprint\u001b[0m\u001b[0;34m(\u001b[0m\u001b[0;34m\"Загрузка={}\"\u001b[0m\u001b[0;34m.\u001b[0m\u001b[0mformat\u001b[0m\u001b[0;34m(\u001b[0m\u001b[0mresults\u001b[0m\u001b[0;34m[\u001b[0m\u001b[0mtime_\u001b[0m\u001b[0;34m]\u001b[0m\u001b[0;34m[\u001b[0m\u001b[0;36m0.1\u001b[0m\u001b[0;34m]\u001b[0m\u001b[0;34m[\u001b[0m\u001b[0;34m'p'\u001b[0m\u001b[0;34m]\u001b[0m \u001b[0;34m/\u001b[0m \u001b[0mtime_\u001b[0m\u001b[0;34m)\u001b[0m\u001b[0;34m)\u001b[0m\u001b[0;34m\u001b[0m\u001b[0m\n\u001b[0m\u001b[1;32m     24\u001b[0m     \u001b[0mprint\u001b[0m\u001b[0;34m(\u001b[0m\u001b[0;34m\"Загрузка={}\\n\"\u001b[0m\u001b[0;34m.\u001b[0m\u001b[0mformat\u001b[0m\u001b[0;34m(\u001b[0m\u001b[0mresults\u001b[0m\u001b[0;34m[\u001b[0m\u001b[0mtime_\u001b[0m\u001b[0;34m]\u001b[0m\u001b[0;34m[\u001b[0m\u001b[0;36m0.9\u001b[0m\u001b[0;34m]\u001b[0m\u001b[0;34m[\u001b[0m\u001b[0;34m'p'\u001b[0m\u001b[0;34m]\u001b[0m \u001b[0;34m/\u001b[0m \u001b[0mtime_\u001b[0m\u001b[0;34m)\u001b[0m\u001b[0;34m)\u001b[0m\u001b[0;34m\u001b[0m\u001b[0m\n",
      "\u001b[0;31mKeyError\u001b[0m: 0.1"
     ]
    }
   ],
   "source": [
    "check_payload(results, 30000)\n",
    "\n",
    "check_payload(results, 20000)\n",
    "check_payload(results, 10000)\n",
    "check_payload(results, 8000)\n",
    "check_payload(results, 6000)"
   ]
  },
  {
   "cell_type": "code",
   "execution_count": null,
   "metadata": {},
   "outputs": [],
   "source": []
  }
 ],
 "metadata": {
  "kernelspec": {
   "display_name": "Python 3",
   "language": "python",
   "name": "python3"
  },
  "language_info": {
   "codemirror_mode": {
    "name": "ipython",
    "version": 3
   },
   "file_extension": ".py",
   "mimetype": "text/x-python",
   "name": "python",
   "nbconvert_exporter": "python",
   "pygments_lexer": "ipython3",
   "version": "3.5.0"
  }
 },
 "nbformat": 4,
 "nbformat_minor": 2
}
