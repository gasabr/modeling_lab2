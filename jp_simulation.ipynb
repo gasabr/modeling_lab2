{
 "cells": [
  {
   "cell_type": "code",
   "execution_count": 1,
   "metadata": {
    "collapsed": false
   },
   "outputs": [],
   "source": [
    "import random\n",
    "\n",
    "from process import Processor, Buffer"
   ]
  },
  {
   "cell_type": "code",
   "execution_count": 2,
   "metadata": {
    "collapsed": true
   },
   "outputs": [],
   "source": [
    "TIME_LIMIT = 100000\n",
    "LAMBDA = 0.1\n",
    "EXPECTED_WORK_TIME = 40"
   ]
  },
  {
   "cell_type": "code",
   "execution_count": 3,
   "metadata": {
    "collapsed": true
   },
   "outputs": [],
   "source": [
    "p1 = Processor('P1', EXPECTED_WORK_TIME, Buffer(4))\n",
    "p2 = Processor('P2', EXPECTED_WORK_TIME)"
   ]
  },
  {
   "cell_type": "code",
   "execution_count": 4,
   "metadata": {
    "collapsed": false
   },
   "outputs": [],
   "source": [
    "def get_requests_timings(lam):\n",
    "    timings = []\n",
    "    current_time = 0\n",
    "    while current_time < TIME_LIMIT:\n",
    "        next_request_in = int(random.expovariate(lam))\n",
    "        timings.append(current_time + next_request_in)\n",
    "        current_time += next_request_in\n",
    "        \n",
    "    return timings\n",
    "\n",
    "# TODO: tests for this\n",
    "def count_intervals(timings):\n",
    "    ''' Returns intervals between events in timings. '''\n",
    "    intervals = list(map(lambda i: \n",
    "        rejected_requests[i] - rejected_requests[i-1], \n",
    "        reversed(range(1, len(rejected_requests)))))\n",
    "    return intervals"
   ]
  },
  {
   "cell_type": "code",
   "execution_count": 5,
   "metadata": {
    "collapsed": false
   },
   "outputs": [
    {
     "name": "stdout",
     "output_type": "stream",
     "text": [
      "[17, 19, 36, 44, 57, 71, 86, 93, 100, 116]\n",
      "0 => 5000 => 10000 => 15000 => 20000 => 25000 => 30000 => 35000 => 40000 => 45000 => 50000 => 55000 => 60000 => 65000 => 70000 => 75000 => 80000 => 85000 => 90000 => 95000 => "
     ]
    }
   ],
   "source": [
    "requests = get_requests_timings(LAMBDA)\n",
    "print(requests[:10])\n",
    "rejected_requests = []\n",
    "\n",
    "for i in range(TIME_LIMIT):\n",
    "    if i % 5000 == 0:\n",
    "        print(i, end=' => ')\n",
    "    if i in requests:\n",
    "        # define in which arm request should be processed\n",
    "        arm_check = random.random()\n",
    "        # check if the arm can process request (either processor or buffer)\n",
    "        attachment_result = 0\n",
    "        if arm_check < 0.33:\n",
    "            attachment_result = p1.add_process(i)\n",
    "        else:\n",
    "            attachment_result = p2.add_process(i)\n",
    "        \n",
    "        if attachment_result == 0:\n",
    "            # the processor was not able to take request\n",
    "            rejected_requests.append(i)"
   ]
  },
  {
   "cell_type": "code",
   "execution_count": 6,
   "metadata": {
    "collapsed": false
   },
   "outputs": [
    {
     "name": "stdout",
     "output_type": "stream",
     "text": [
      "Workload of System1:  0.0954387158754303\n"
     ]
    }
   ],
   "source": [
    "intervals = count_intervals(rejected_requests)\n",
    "print(\"Workload of System1: \", 1/(sum(intervals)/len(intervals)))"
   ]
  },
  {
   "cell_type": "markdown",
   "metadata": {},
   "source": [
    "### Система 2"
   ]
  },
  {
   "cell_type": "code",
   "execution_count": 7,
   "metadata": {
    "collapsed": true
   },
   "outputs": [],
   "source": [
    "p1 = Processor('P1', EXPECTED_WORK_TIME, Buffer(1))\n",
    "p2 = Processor('P2', EXPECTED_WORK_TIME)\n",
    "p3 = Processor('P3', EXPECTED_WORK_TIME)"
   ]
  },
  {
   "cell_type": "code",
   "execution_count": 8,
   "metadata": {
    "collapsed": false
   },
   "outputs": [
    {
     "name": "stdout",
     "output_type": "stream",
     "text": [
      "0 => 5000 => 10000 => 15000 => 20000 => 25000 => 30000 => 35000 => 40000 => 45000 => 50000 => 55000 => 60000 => 65000 => 70000 => 75000 => 80000 => 85000 => 90000 => 95000 => "
     ]
    }
   ],
   "source": [
    "#requests = get_requests_timings(LAMBDA)\n",
    "# print(requests[:10])\n",
    "rejected_requests = []\n",
    "\n",
    "for i in range(TIME_LIMIT):\n",
    "    if i % 5000 == 0:\n",
    "        print(i, end=' => ')\n",
    "    if i in requests:\n",
    "        # define in which arm request should be processed\n",
    "        arm_check = random.random()\n",
    "        # check if the arm can process request (either processor or buffer)\n",
    "        attachment_result = 0\n",
    "        if arm_check < 0.33:\n",
    "            attachment_result = p1.add_process(i)\n",
    "        elif arm_check < .66:\n",
    "            attachment_result = p2.add_process(i)\n",
    "        else:\n",
    "            attachment_result = p3.add_process(i)\n",
    "        \n",
    "        if attachment_result == 0:\n",
    "            # the processor was not able to take request\n",
    "            rejected_requests.append(i)"
   ]
  },
  {
   "cell_type": "code",
   "execution_count": 9,
   "metadata": {
    "collapsed": false
   },
   "outputs": [
    {
     "name": "stdout",
     "output_type": "stream",
     "text": [
      "Workload of System1:  0.0954387158754303\n"
     ]
    }
   ],
   "source": [
    "intervals = count_intervals(rejected_requests)\n",
    "print(\"Workload of System1: \", 1/(sum(intervals)/len(intervals)))"
   ]
  },
  {
   "cell_type": "code",
   "execution_count": null,
   "metadata": {
    "collapsed": true
   },
   "outputs": [],
   "source": []
  }
 ],
 "metadata": {
  "kernelspec": {
   "display_name": "Python 3",
   "language": "python",
   "name": "python3"
  },
  "language_info": {
   "codemirror_mode": {
    "name": "ipython",
    "version": 3
   },
   "file_extension": ".py",
   "mimetype": "text/x-python",
   "name": "python",
   "nbconvert_exporter": "python",
   "pygments_lexer": "ipython3",
   "version": "3.5.0"
  }
 },
 "nbformat": 4,
 "nbformat_minor": 0
}
